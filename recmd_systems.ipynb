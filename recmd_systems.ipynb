{
 "cells": [
  {
   "cell_type": "code",
   "execution_count": 2,
   "metadata": {},
   "outputs": [],
   "source": [
    "import boto3\n",
    "import sagemaker\n",
    "import numpy as np\n",
    "import pandas as pd\n",
    "from tqdm import tqdm\n",
    "from collections import Counter\n",
    "import matplotlib.pyplot as plt\n",
    "from sagemaker.amazon.amazon_estimator import get_image_uri\n",
    "from sagemaker.session import s3_input,Session"
   ]
  },
  {
   "cell_type": "markdown",
   "metadata": {},
   "source": [
    "## Creating an S3 Librabry"
   ]
  },
  {
   "cell_type": "code",
   "execution_count": 3,
   "metadata": {},
   "outputs": [
    {
     "name": "stdout",
     "output_type": "stream",
     "text": [
      "us-east-1\n"
     ]
    }
   ],
   "source": [
    "bucket_name= 'recmdsysbucket'\n",
    "my_region= boto3.session.Session().region_name\n",
    "print(my_region)"
   ]
  },
  {
   "cell_type": "code",
   "execution_count": null,
   "metadata": {},
   "outputs": [],
   "source": [
    "s3= boto3.resource('s3')\n",
    "try:\n",
    "    if my_region== 'us-east-1':\n",
    "        s3.create_bucket(Bucket= bucket_name)\n",
    "    print('S3 bucket created successfully')\n",
    "except Exception as e:\n",
    "    print('S3 error:',e)"
   ]
  },
  {
   "cell_type": "code",
   "execution_count": 4,
   "metadata": {},
   "outputs": [
    {
     "name": "stdout",
     "output_type": "stream",
     "text": [
      "s3://recmdsysbucket/preprocessing_eda/output\n"
     ]
    }
   ],
   "source": [
    "prefix= 'preprocessing_eda'\n",
    "output_path= 's3://{}/{}/output'.format(bucket_name,prefix)\n",
    "print(output_path)"
   ]
  },
  {
   "cell_type": "markdown",
   "metadata": {},
   "source": [
    "## Loading the Dataset"
   ]
  },
  {
   "cell_type": "code",
   "execution_count": 5,
   "metadata": {},
   "outputs": [],
   "source": [
    "data= pd.read_json('s3://recmdsysbucket/tops_fashion.json')"
   ]
  },
  {
   "cell_type": "code",
   "execution_count": 5,
   "metadata": {},
   "outputs": [
    {
     "data": {
      "text/html": [
       "<div>\n",
       "<style scoped>\n",
       "    .dataframe tbody tr th:only-of-type {\n",
       "        vertical-align: middle;\n",
       "    }\n",
       "\n",
       "    .dataframe tbody tr th {\n",
       "        vertical-align: top;\n",
       "    }\n",
       "\n",
       "    .dataframe thead th {\n",
       "        text-align: right;\n",
       "    }\n",
       "</style>\n",
       "<table border=\"1\" class=\"dataframe\">\n",
       "  <thead>\n",
       "    <tr style=\"text-align: right;\">\n",
       "      <th></th>\n",
       "      <th>sku</th>\n",
       "      <th>asin</th>\n",
       "      <th>product_type_name</th>\n",
       "      <th>formatted_price</th>\n",
       "      <th>author</th>\n",
       "      <th>color</th>\n",
       "      <th>brand</th>\n",
       "      <th>publisher</th>\n",
       "      <th>availability</th>\n",
       "      <th>reviews</th>\n",
       "      <th>large_image_url</th>\n",
       "      <th>availability_type</th>\n",
       "      <th>small_image_url</th>\n",
       "      <th>editorial_review</th>\n",
       "      <th>title</th>\n",
       "      <th>model</th>\n",
       "      <th>medium_image_url</th>\n",
       "      <th>manufacturer</th>\n",
       "      <th>editorial_reivew</th>\n",
       "    </tr>\n",
       "  </thead>\n",
       "  <tbody>\n",
       "    <tr>\n",
       "      <th>0</th>\n",
       "      <td>None</td>\n",
       "      <td>B016I2TS4W</td>\n",
       "      <td>SHIRT</td>\n",
       "      <td>None</td>\n",
       "      <td>None</td>\n",
       "      <td>None</td>\n",
       "      <td>FNC7C</td>\n",
       "      <td>None</td>\n",
       "      <td>None</td>\n",
       "      <td>[False, https://www.amazon.com/reviews/iframe?...</td>\n",
       "      <td>https://images-na.ssl-images-amazon.com/images...</td>\n",
       "      <td>None</td>\n",
       "      <td>https://images-na.ssl-images-amazon.com/images...</td>\n",
       "      <td>Minions Como Superheroes Ironman Women's O Nec...</td>\n",
       "      <td>Minions Como Superheroes Ironman Long Sleeve R...</td>\n",
       "      <td>None</td>\n",
       "      <td>https://images-na.ssl-images-amazon.com/images...</td>\n",
       "      <td>None</td>\n",
       "      <td>NaN</td>\n",
       "    </tr>\n",
       "    <tr>\n",
       "      <th>1</th>\n",
       "      <td>None</td>\n",
       "      <td>B01N49AI08</td>\n",
       "      <td>SHIRT</td>\n",
       "      <td>None</td>\n",
       "      <td>None</td>\n",
       "      <td>None</td>\n",
       "      <td>FIG Clothing</td>\n",
       "      <td>None</td>\n",
       "      <td>None</td>\n",
       "      <td>[False, https://www.amazon.com/reviews/iframe?...</td>\n",
       "      <td>https://images-na.ssl-images-amazon.com/images...</td>\n",
       "      <td>None</td>\n",
       "      <td>https://images-na.ssl-images-amazon.com/images...</td>\n",
       "      <td>Sizing runs on the small side. FIG® recommends...</td>\n",
       "      <td>FIG Clothing Womens Izo Tunic</td>\n",
       "      <td>None</td>\n",
       "      <td>https://images-na.ssl-images-amazon.com/images...</td>\n",
       "      <td>None</td>\n",
       "      <td>NaN</td>\n",
       "    </tr>\n",
       "    <tr>\n",
       "      <th>2</th>\n",
       "      <td>None</td>\n",
       "      <td>B01JDPCOHO</td>\n",
       "      <td>SHIRT</td>\n",
       "      <td>None</td>\n",
       "      <td>None</td>\n",
       "      <td>None</td>\n",
       "      <td>FIG Clothing</td>\n",
       "      <td>None</td>\n",
       "      <td>None</td>\n",
       "      <td>[False, https://www.amazon.com/reviews/iframe?...</td>\n",
       "      <td>https://images-na.ssl-images-amazon.com/images...</td>\n",
       "      <td>None</td>\n",
       "      <td>https://images-na.ssl-images-amazon.com/images...</td>\n",
       "      <td>Sizing runs on the small side. FIG® recommends...</td>\n",
       "      <td>FIG Clothing Womens Won Top</td>\n",
       "      <td>None</td>\n",
       "      <td>https://images-na.ssl-images-amazon.com/images...</td>\n",
       "      <td>None</td>\n",
       "      <td>NaN</td>\n",
       "    </tr>\n",
       "    <tr>\n",
       "      <th>3</th>\n",
       "      <td>None</td>\n",
       "      <td>B01N19U5H5</td>\n",
       "      <td>SHIRT</td>\n",
       "      <td>None</td>\n",
       "      <td>None</td>\n",
       "      <td>None</td>\n",
       "      <td>Focal18</td>\n",
       "      <td>None</td>\n",
       "      <td>None</td>\n",
       "      <td>[True, https://www.amazon.com/reviews/iframe?a...</td>\n",
       "      <td>https://images-na.ssl-images-amazon.com/images...</td>\n",
       "      <td>None</td>\n",
       "      <td>https://images-na.ssl-images-amazon.com/images...</td>\n",
       "      <td>100% Brand New &amp; Fashion&lt;br&gt; Quantity: 1 Piece...</td>\n",
       "      <td>Focal18 Sailor Collar Bubble Sleeve Blouse Shi...</td>\n",
       "      <td>None</td>\n",
       "      <td>https://images-na.ssl-images-amazon.com/images...</td>\n",
       "      <td>None</td>\n",
       "      <td>NaN</td>\n",
       "    </tr>\n",
       "    <tr>\n",
       "      <th>4</th>\n",
       "      <td>None</td>\n",
       "      <td>B004GSI2OS</td>\n",
       "      <td>SHIRT</td>\n",
       "      <td>$26.26</td>\n",
       "      <td>None</td>\n",
       "      <td>Onyx Black/ Stone</td>\n",
       "      <td>FeatherLite</td>\n",
       "      <td>None</td>\n",
       "      <td>Usually ships in 6-10 business days</td>\n",
       "      <td>[False, https://www.amazon.com/reviews/iframe?...</td>\n",
       "      <td>https://images-na.ssl-images-amazon.com/images...</td>\n",
       "      <td>now</td>\n",
       "      <td>https://images-na.ssl-images-amazon.com/images...</td>\n",
       "      <td></td>\n",
       "      <td>Featherlite Ladies' Long Sleeve Stain Resistan...</td>\n",
       "      <td>None</td>\n",
       "      <td>https://images-na.ssl-images-amazon.com/images...</td>\n",
       "      <td>None</td>\n",
       "      <td>NaN</td>\n",
       "    </tr>\n",
       "  </tbody>\n",
       "</table>\n",
       "</div>"
      ],
      "text/plain": [
       "    sku        asin product_type_name formatted_price author  \\\n",
       "0  None  B016I2TS4W             SHIRT            None   None   \n",
       "1  None  B01N49AI08             SHIRT            None   None   \n",
       "2  None  B01JDPCOHO             SHIRT            None   None   \n",
       "3  None  B01N19U5H5             SHIRT            None   None   \n",
       "4  None  B004GSI2OS             SHIRT          $26.26   None   \n",
       "\n",
       "               color         brand publisher  \\\n",
       "0               None         FNC7C      None   \n",
       "1               None  FIG Clothing      None   \n",
       "2               None  FIG Clothing      None   \n",
       "3               None       Focal18      None   \n",
       "4  Onyx Black/ Stone   FeatherLite      None   \n",
       "\n",
       "                          availability  \\\n",
       "0                                 None   \n",
       "1                                 None   \n",
       "2                                 None   \n",
       "3                                 None   \n",
       "4  Usually ships in 6-10 business days   \n",
       "\n",
       "                                             reviews  \\\n",
       "0  [False, https://www.amazon.com/reviews/iframe?...   \n",
       "1  [False, https://www.amazon.com/reviews/iframe?...   \n",
       "2  [False, https://www.amazon.com/reviews/iframe?...   \n",
       "3  [True, https://www.amazon.com/reviews/iframe?a...   \n",
       "4  [False, https://www.amazon.com/reviews/iframe?...   \n",
       "\n",
       "                                     large_image_url availability_type  \\\n",
       "0  https://images-na.ssl-images-amazon.com/images...              None   \n",
       "1  https://images-na.ssl-images-amazon.com/images...              None   \n",
       "2  https://images-na.ssl-images-amazon.com/images...              None   \n",
       "3  https://images-na.ssl-images-amazon.com/images...              None   \n",
       "4  https://images-na.ssl-images-amazon.com/images...               now   \n",
       "\n",
       "                                     small_image_url  \\\n",
       "0  https://images-na.ssl-images-amazon.com/images...   \n",
       "1  https://images-na.ssl-images-amazon.com/images...   \n",
       "2  https://images-na.ssl-images-amazon.com/images...   \n",
       "3  https://images-na.ssl-images-amazon.com/images...   \n",
       "4  https://images-na.ssl-images-amazon.com/images...   \n",
       "\n",
       "                                    editorial_review  \\\n",
       "0  Minions Como Superheroes Ironman Women's O Nec...   \n",
       "1  Sizing runs on the small side. FIG® recommends...   \n",
       "2  Sizing runs on the small side. FIG® recommends...   \n",
       "3  100% Brand New & Fashion<br> Quantity: 1 Piece...   \n",
       "4                                                      \n",
       "\n",
       "                                               title model  \\\n",
       "0  Minions Como Superheroes Ironman Long Sleeve R...  None   \n",
       "1                      FIG Clothing Womens Izo Tunic  None   \n",
       "2                        FIG Clothing Womens Won Top  None   \n",
       "3  Focal18 Sailor Collar Bubble Sleeve Blouse Shi...  None   \n",
       "4  Featherlite Ladies' Long Sleeve Stain Resistan...  None   \n",
       "\n",
       "                                    medium_image_url manufacturer  \\\n",
       "0  https://images-na.ssl-images-amazon.com/images...         None   \n",
       "1  https://images-na.ssl-images-amazon.com/images...         None   \n",
       "2  https://images-na.ssl-images-amazon.com/images...         None   \n",
       "3  https://images-na.ssl-images-amazon.com/images...         None   \n",
       "4  https://images-na.ssl-images-amazon.com/images...         None   \n",
       "\n",
       "  editorial_reivew  \n",
       "0              NaN  \n",
       "1              NaN  \n",
       "2              NaN  \n",
       "3              NaN  \n",
       "4              NaN  "
      ]
     },
     "execution_count": 5,
     "metadata": {},
     "output_type": "execute_result"
    }
   ],
   "source": [
    "data.head()"
   ]
  },
  {
   "cell_type": "markdown",
   "metadata": {},
   "source": [
    "## Shape of the Data and Feature Names"
   ]
  },
  {
   "cell_type": "code",
   "execution_count": 6,
   "metadata": {},
   "outputs": [
    {
     "name": "stdout",
     "output_type": "stream",
     "text": [
      "The number of Observations in the dataset:  183138\n",
      "The number of features in the dataset:  19\n"
     ]
    }
   ],
   "source": [
    "print(\"The number of Observations in the dataset: \",data.shape[0])\n",
    "print(\"The number of features in the dataset: \",data.shape[1])"
   ]
  },
  {
   "cell_type": "code",
   "execution_count": 7,
   "metadata": {},
   "outputs": [
    {
     "name": "stdout",
     "output_type": "stream",
     "text": [
      "The names of the features in the Dataset are as below:\n",
      "\n",
      "\n",
      "Index(['sku', 'asin', 'product_type_name', 'formatted_price', 'author',\n",
      "       'color', 'brand', 'publisher', 'availability', 'reviews',\n",
      "       'large_image_url', 'availability_type', 'small_image_url',\n",
      "       'editorial_review', 'title', 'model', 'medium_image_url',\n",
      "       'manufacturer', 'editorial_reivew'],\n",
      "      dtype='object')\n"
     ]
    }
   ],
   "source": [
    "print(\"The names of the features in the Dataset are as below:\")\n",
    "print('\\n')\n",
    "print(data.columns)"
   ]
  },
  {
   "cell_type": "code",
   "execution_count": 8,
   "metadata": {},
   "outputs": [
    {
     "name": "stdout",
     "output_type": "stream",
     "text": [
      "The missing value percenatge in each of the columns of the dataset is as below:\n",
      "\n",
      "\n",
      "sku                   99.80\n",
      "asin                   0.00\n",
      "product_type_name      0.00\n",
      "formatted_price       84.50\n",
      "author               100.00\n",
      "color                 64.53\n",
      "brand                  0.08\n",
      "publisher             76.58\n",
      "availability          86.60\n",
      "reviews                0.00\n",
      "large_image_url        0.00\n",
      "availability_type     86.59\n",
      "small_image_url        0.00\n",
      "editorial_review      98.49\n",
      "title                  0.00\n",
      "model                 65.94\n",
      "medium_image_url       0.00\n",
      "manufacturer          76.58\n",
      "editorial_reivew       1.51\n",
      "dtype: float64\n"
     ]
    }
   ],
   "source": [
    "print(\"The missing value percenatge in each of the columns of the dataset is as below:\")\n",
    "print(\"\\n\")\n",
    "print(np.round((data.isna().sum()/data.shape[0])*100,2))"
   ]
  },
  {
   "cell_type": "markdown",
   "metadata": {},
   "source": [
    "### Dropping the SKU and the Author features as they have more than 99% of missing values in the data"
   ]
  },
  {
   "cell_type": "code",
   "execution_count": 6,
   "metadata": {},
   "outputs": [],
   "source": [
    "data.drop(['sku','author'],axis=1,inplace=True)"
   ]
  },
  {
   "cell_type": "markdown",
   "metadata": {},
   "source": [
    "### Dropping the large_image_url and the small_image_url features and I will be just using the medium_image_url feature instead"
   ]
  },
  {
   "cell_type": "code",
   "execution_count": 7,
   "metadata": {},
   "outputs": [],
   "source": [
    "data.drop(['large_image_url','small_image_url'],axis=1,inplace=True)"
   ]
  },
  {
   "cell_type": "code",
   "execution_count": 8,
   "metadata": {},
   "outputs": [
    {
     "name": "stdout",
     "output_type": "stream",
     "text": [
      "asin                  0.00\n",
      "product_type_name     0.00\n",
      "formatted_price      84.50\n",
      "color                64.53\n",
      "brand                 0.08\n",
      "publisher            76.58\n",
      "availability         86.60\n",
      "reviews               0.00\n",
      "availability_type    86.59\n",
      "editorial_review     98.49\n",
      "title                 0.00\n",
      "model                65.94\n",
      "medium_image_url      0.00\n",
      "manufacturer         76.58\n",
      "editorial_reivew      1.51\n",
      "dtype: float64\n"
     ]
    }
   ],
   "source": [
    "print(np.round((data.isna().sum()/data.shape[0])*100,2))"
   ]
  },
  {
   "cell_type": "code",
   "execution_count": 9,
   "metadata": {},
   "outputs": [],
   "source": [
    "er1= pd.DataFrame(data.iloc[:,9])\n",
    "er2= pd.DataFrame(data.iloc[:,-1])\n",
    "er1.columns= ['col1']\n",
    "er2.columns= ['col2']"
   ]
  },
  {
   "cell_type": "code",
   "execution_count": 10,
   "metadata": {},
   "outputs": [],
   "source": [
    "data['editorial_review_updated']= np.zeros(data.shape[0])"
   ]
  },
  {
   "cell_type": "code",
   "execution_count": 11,
   "metadata": {},
   "outputs": [
    {
     "name": "stderr",
     "output_type": "stream",
     "text": [
      "100%|██████████| 183138/183138 [00:41<00:00, 4379.97it/s]\n"
     ]
    }
   ],
   "source": [
    "for i in tqdm(range(data.shape[0])):\n",
    "    if pd.isna(er1.iloc[i,0]):\n",
    "        er1.iloc[i,0]= er2.iloc[i,0]    "
   ]
  },
  {
   "cell_type": "code",
   "execution_count": 12,
   "metadata": {},
   "outputs": [
    {
     "data": {
      "text/html": [
       "<div>\n",
       "<style scoped>\n",
       "    .dataframe tbody tr th:only-of-type {\n",
       "        vertical-align: middle;\n",
       "    }\n",
       "\n",
       "    .dataframe tbody tr th {\n",
       "        vertical-align: top;\n",
       "    }\n",
       "\n",
       "    .dataframe thead th {\n",
       "        text-align: right;\n",
       "    }\n",
       "</style>\n",
       "<table border=\"1\" class=\"dataframe\">\n",
       "  <thead>\n",
       "    <tr style=\"text-align: right;\">\n",
       "      <th></th>\n",
       "      <th>asin</th>\n",
       "      <th>product_type_name</th>\n",
       "      <th>formatted_price</th>\n",
       "      <th>color</th>\n",
       "      <th>brand</th>\n",
       "      <th>publisher</th>\n",
       "      <th>availability</th>\n",
       "      <th>reviews</th>\n",
       "      <th>availability_type</th>\n",
       "      <th>editorial_review</th>\n",
       "      <th>title</th>\n",
       "      <th>model</th>\n",
       "      <th>medium_image_url</th>\n",
       "      <th>manufacturer</th>\n",
       "      <th>editorial_reivew</th>\n",
       "      <th>editorial_review_updated</th>\n",
       "    </tr>\n",
       "  </thead>\n",
       "  <tbody>\n",
       "    <tr>\n",
       "      <th>0</th>\n",
       "      <td>B016I2TS4W</td>\n",
       "      <td>SHIRT</td>\n",
       "      <td>None</td>\n",
       "      <td>None</td>\n",
       "      <td>FNC7C</td>\n",
       "      <td>None</td>\n",
       "      <td>None</td>\n",
       "      <td>[False, https://www.amazon.com/reviews/iframe?...</td>\n",
       "      <td>None</td>\n",
       "      <td>Minions Como Superheroes Ironman Women's O Nec...</td>\n",
       "      <td>Minions Como Superheroes Ironman Long Sleeve R...</td>\n",
       "      <td>None</td>\n",
       "      <td>https://images-na.ssl-images-amazon.com/images...</td>\n",
       "      <td>None</td>\n",
       "      <td>NaN</td>\n",
       "      <td>Minions Como Superheroes Ironman Women's O Nec...</td>\n",
       "    </tr>\n",
       "    <tr>\n",
       "      <th>1</th>\n",
       "      <td>B01N49AI08</td>\n",
       "      <td>SHIRT</td>\n",
       "      <td>None</td>\n",
       "      <td>None</td>\n",
       "      <td>FIG Clothing</td>\n",
       "      <td>None</td>\n",
       "      <td>None</td>\n",
       "      <td>[False, https://www.amazon.com/reviews/iframe?...</td>\n",
       "      <td>None</td>\n",
       "      <td>Sizing runs on the small side. FIG® recommends...</td>\n",
       "      <td>FIG Clothing Womens Izo Tunic</td>\n",
       "      <td>None</td>\n",
       "      <td>https://images-na.ssl-images-amazon.com/images...</td>\n",
       "      <td>None</td>\n",
       "      <td>NaN</td>\n",
       "      <td>Sizing runs on the small side. FIG® recommends...</td>\n",
       "    </tr>\n",
       "    <tr>\n",
       "      <th>2</th>\n",
       "      <td>B01JDPCOHO</td>\n",
       "      <td>SHIRT</td>\n",
       "      <td>None</td>\n",
       "      <td>None</td>\n",
       "      <td>FIG Clothing</td>\n",
       "      <td>None</td>\n",
       "      <td>None</td>\n",
       "      <td>[False, https://www.amazon.com/reviews/iframe?...</td>\n",
       "      <td>None</td>\n",
       "      <td>Sizing runs on the small side. FIG® recommends...</td>\n",
       "      <td>FIG Clothing Womens Won Top</td>\n",
       "      <td>None</td>\n",
       "      <td>https://images-na.ssl-images-amazon.com/images...</td>\n",
       "      <td>None</td>\n",
       "      <td>NaN</td>\n",
       "      <td>Sizing runs on the small side. FIG® recommends...</td>\n",
       "    </tr>\n",
       "    <tr>\n",
       "      <th>3</th>\n",
       "      <td>B01N19U5H5</td>\n",
       "      <td>SHIRT</td>\n",
       "      <td>None</td>\n",
       "      <td>None</td>\n",
       "      <td>Focal18</td>\n",
       "      <td>None</td>\n",
       "      <td>None</td>\n",
       "      <td>[True, https://www.amazon.com/reviews/iframe?a...</td>\n",
       "      <td>None</td>\n",
       "      <td>100% Brand New &amp; Fashion&lt;br&gt; Quantity: 1 Piece...</td>\n",
       "      <td>Focal18 Sailor Collar Bubble Sleeve Blouse Shi...</td>\n",
       "      <td>None</td>\n",
       "      <td>https://images-na.ssl-images-amazon.com/images...</td>\n",
       "      <td>None</td>\n",
       "      <td>NaN</td>\n",
       "      <td>100% Brand New &amp; Fashion&lt;br&gt; Quantity: 1 Piece...</td>\n",
       "    </tr>\n",
       "    <tr>\n",
       "      <th>4</th>\n",
       "      <td>B004GSI2OS</td>\n",
       "      <td>SHIRT</td>\n",
       "      <td>$26.26</td>\n",
       "      <td>Onyx Black/ Stone</td>\n",
       "      <td>FeatherLite</td>\n",
       "      <td>None</td>\n",
       "      <td>Usually ships in 6-10 business days</td>\n",
       "      <td>[False, https://www.amazon.com/reviews/iframe?...</td>\n",
       "      <td>now</td>\n",
       "      <td></td>\n",
       "      <td>Featherlite Ladies' Long Sleeve Stain Resistan...</td>\n",
       "      <td>None</td>\n",
       "      <td>https://images-na.ssl-images-amazon.com/images...</td>\n",
       "      <td>None</td>\n",
       "      <td>NaN</td>\n",
       "      <td></td>\n",
       "    </tr>\n",
       "  </tbody>\n",
       "</table>\n",
       "</div>"
      ],
      "text/plain": [
       "         asin product_type_name formatted_price              color  \\\n",
       "0  B016I2TS4W             SHIRT            None               None   \n",
       "1  B01N49AI08             SHIRT            None               None   \n",
       "2  B01JDPCOHO             SHIRT            None               None   \n",
       "3  B01N19U5H5             SHIRT            None               None   \n",
       "4  B004GSI2OS             SHIRT          $26.26  Onyx Black/ Stone   \n",
       "\n",
       "          brand publisher                         availability  \\\n",
       "0         FNC7C      None                                 None   \n",
       "1  FIG Clothing      None                                 None   \n",
       "2  FIG Clothing      None                                 None   \n",
       "3       Focal18      None                                 None   \n",
       "4   FeatherLite      None  Usually ships in 6-10 business days   \n",
       "\n",
       "                                             reviews availability_type  \\\n",
       "0  [False, https://www.amazon.com/reviews/iframe?...              None   \n",
       "1  [False, https://www.amazon.com/reviews/iframe?...              None   \n",
       "2  [False, https://www.amazon.com/reviews/iframe?...              None   \n",
       "3  [True, https://www.amazon.com/reviews/iframe?a...              None   \n",
       "4  [False, https://www.amazon.com/reviews/iframe?...               now   \n",
       "\n",
       "                                    editorial_review  \\\n",
       "0  Minions Como Superheroes Ironman Women's O Nec...   \n",
       "1  Sizing runs on the small side. FIG® recommends...   \n",
       "2  Sizing runs on the small side. FIG® recommends...   \n",
       "3  100% Brand New & Fashion<br> Quantity: 1 Piece...   \n",
       "4                                                      \n",
       "\n",
       "                                               title model  \\\n",
       "0  Minions Como Superheroes Ironman Long Sleeve R...  None   \n",
       "1                      FIG Clothing Womens Izo Tunic  None   \n",
       "2                        FIG Clothing Womens Won Top  None   \n",
       "3  Focal18 Sailor Collar Bubble Sleeve Blouse Shi...  None   \n",
       "4  Featherlite Ladies' Long Sleeve Stain Resistan...  None   \n",
       "\n",
       "                                    medium_image_url manufacturer  \\\n",
       "0  https://images-na.ssl-images-amazon.com/images...         None   \n",
       "1  https://images-na.ssl-images-amazon.com/images...         None   \n",
       "2  https://images-na.ssl-images-amazon.com/images...         None   \n",
       "3  https://images-na.ssl-images-amazon.com/images...         None   \n",
       "4  https://images-na.ssl-images-amazon.com/images...         None   \n",
       "\n",
       "  editorial_reivew                           editorial_review_updated  \n",
       "0              NaN  Minions Como Superheroes Ironman Women's O Nec...  \n",
       "1              NaN  Sizing runs on the small side. FIG® recommends...  \n",
       "2              NaN  Sizing runs on the small side. FIG® recommends...  \n",
       "3              NaN  100% Brand New & Fashion<br> Quantity: 1 Piece...  \n",
       "4              NaN                                                     "
      ]
     },
     "execution_count": 12,
     "metadata": {},
     "output_type": "execute_result"
    }
   ],
   "source": [
    "data['editorial_review_updated']= er1\n",
    "data.head()"
   ]
  },
  {
   "cell_type": "code",
   "execution_count": 13,
   "metadata": {},
   "outputs": [
    {
     "data": {
      "text/plain": [
       "0.0"
      ]
     },
     "execution_count": 13,
     "metadata": {},
     "output_type": "execute_result"
    }
   ],
   "source": [
    "data['editorial_review_updated'].isna().sum()/data.shape[0]"
   ]
  },
  {
   "cell_type": "code",
   "execution_count": 14,
   "metadata": {},
   "outputs": [],
   "source": [
    "data.drop(['editorial_review'], axis=1, inplace=True)"
   ]
  },
  {
   "cell_type": "code",
   "execution_count": 15,
   "metadata": {},
   "outputs": [],
   "source": [
    "data.drop([data.columns[13]], axis=1, inplace=True)"
   ]
  },
  {
   "cell_type": "code",
   "execution_count": 54,
   "metadata": {},
   "outputs": [
    {
     "data": {
      "text/html": [
       "<div>\n",
       "<style scoped>\n",
       "    .dataframe tbody tr th:only-of-type {\n",
       "        vertical-align: middle;\n",
       "    }\n",
       "\n",
       "    .dataframe tbody tr th {\n",
       "        vertical-align: top;\n",
       "    }\n",
       "\n",
       "    .dataframe thead th {\n",
       "        text-align: right;\n",
       "    }\n",
       "</style>\n",
       "<table border=\"1\" class=\"dataframe\">\n",
       "  <thead>\n",
       "    <tr style=\"text-align: right;\">\n",
       "      <th></th>\n",
       "      <th>asin</th>\n",
       "      <th>product_type_name</th>\n",
       "      <th>formatted_price</th>\n",
       "      <th>color</th>\n",
       "      <th>brand</th>\n",
       "      <th>publisher</th>\n",
       "      <th>availability</th>\n",
       "      <th>reviews</th>\n",
       "      <th>availability_type</th>\n",
       "      <th>title</th>\n",
       "      <th>model</th>\n",
       "      <th>medium_image_url</th>\n",
       "      <th>manufacturer</th>\n",
       "      <th>editorial_review_updated</th>\n",
       "    </tr>\n",
       "  </thead>\n",
       "  <tbody>\n",
       "    <tr>\n",
       "      <th>0</th>\n",
       "      <td>B016I2TS4W</td>\n",
       "      <td>SHIRT</td>\n",
       "      <td>None</td>\n",
       "      <td>None</td>\n",
       "      <td>FNC7C</td>\n",
       "      <td>None</td>\n",
       "      <td>None</td>\n",
       "      <td>[False, https://www.amazon.com/reviews/iframe?...</td>\n",
       "      <td>None</td>\n",
       "      <td>Minions Como Superheroes Ironman Long Sleeve R...</td>\n",
       "      <td>None</td>\n",
       "      <td>https://images-na.ssl-images-amazon.com/images...</td>\n",
       "      <td>None</td>\n",
       "      <td>Minions Como Superheroes Ironman Women's O Nec...</td>\n",
       "    </tr>\n",
       "    <tr>\n",
       "      <th>1</th>\n",
       "      <td>B01N49AI08</td>\n",
       "      <td>SHIRT</td>\n",
       "      <td>None</td>\n",
       "      <td>None</td>\n",
       "      <td>FIG Clothing</td>\n",
       "      <td>None</td>\n",
       "      <td>None</td>\n",
       "      <td>[False, https://www.amazon.com/reviews/iframe?...</td>\n",
       "      <td>None</td>\n",
       "      <td>FIG Clothing Womens Izo Tunic</td>\n",
       "      <td>None</td>\n",
       "      <td>https://images-na.ssl-images-amazon.com/images...</td>\n",
       "      <td>None</td>\n",
       "      <td>Sizing runs on the small side. FIG® recommends...</td>\n",
       "    </tr>\n",
       "    <tr>\n",
       "      <th>2</th>\n",
       "      <td>B01JDPCOHO</td>\n",
       "      <td>SHIRT</td>\n",
       "      <td>None</td>\n",
       "      <td>None</td>\n",
       "      <td>FIG Clothing</td>\n",
       "      <td>None</td>\n",
       "      <td>None</td>\n",
       "      <td>[False, https://www.amazon.com/reviews/iframe?...</td>\n",
       "      <td>None</td>\n",
       "      <td>FIG Clothing Womens Won Top</td>\n",
       "      <td>None</td>\n",
       "      <td>https://images-na.ssl-images-amazon.com/images...</td>\n",
       "      <td>None</td>\n",
       "      <td>Sizing runs on the small side. FIG® recommends...</td>\n",
       "    </tr>\n",
       "    <tr>\n",
       "      <th>3</th>\n",
       "      <td>B01N19U5H5</td>\n",
       "      <td>SHIRT</td>\n",
       "      <td>None</td>\n",
       "      <td>None</td>\n",
       "      <td>Focal18</td>\n",
       "      <td>None</td>\n",
       "      <td>None</td>\n",
       "      <td>[True, https://www.amazon.com/reviews/iframe?a...</td>\n",
       "      <td>None</td>\n",
       "      <td>Focal18 Sailor Collar Bubble Sleeve Blouse Shi...</td>\n",
       "      <td>None</td>\n",
       "      <td>https://images-na.ssl-images-amazon.com/images...</td>\n",
       "      <td>None</td>\n",
       "      <td>100% Brand New &amp; Fashion&lt;br&gt; Quantity: 1 Piece...</td>\n",
       "    </tr>\n",
       "    <tr>\n",
       "      <th>4</th>\n",
       "      <td>B004GSI2OS</td>\n",
       "      <td>SHIRT</td>\n",
       "      <td>$26.26</td>\n",
       "      <td>Onyx Black/ Stone</td>\n",
       "      <td>FeatherLite</td>\n",
       "      <td>None</td>\n",
       "      <td>Usually ships in 6-10 business days</td>\n",
       "      <td>[False, https://www.amazon.com/reviews/iframe?...</td>\n",
       "      <td>now</td>\n",
       "      <td>Featherlite Ladies' Long Sleeve Stain Resistan...</td>\n",
       "      <td>None</td>\n",
       "      <td>https://images-na.ssl-images-amazon.com/images...</td>\n",
       "      <td>None</td>\n",
       "      <td></td>\n",
       "    </tr>\n",
       "  </tbody>\n",
       "</table>\n",
       "</div>"
      ],
      "text/plain": [
       "         asin product_type_name formatted_price              color  \\\n",
       "0  B016I2TS4W             SHIRT            None               None   \n",
       "1  B01N49AI08             SHIRT            None               None   \n",
       "2  B01JDPCOHO             SHIRT            None               None   \n",
       "3  B01N19U5H5             SHIRT            None               None   \n",
       "4  B004GSI2OS             SHIRT          $26.26  Onyx Black/ Stone   \n",
       "\n",
       "          brand publisher                         availability  \\\n",
       "0         FNC7C      None                                 None   \n",
       "1  FIG Clothing      None                                 None   \n",
       "2  FIG Clothing      None                                 None   \n",
       "3       Focal18      None                                 None   \n",
       "4   FeatherLite      None  Usually ships in 6-10 business days   \n",
       "\n",
       "                                             reviews availability_type  \\\n",
       "0  [False, https://www.amazon.com/reviews/iframe?...              None   \n",
       "1  [False, https://www.amazon.com/reviews/iframe?...              None   \n",
       "2  [False, https://www.amazon.com/reviews/iframe?...              None   \n",
       "3  [True, https://www.amazon.com/reviews/iframe?a...              None   \n",
       "4  [False, https://www.amazon.com/reviews/iframe?...               now   \n",
       "\n",
       "                                               title model  \\\n",
       "0  Minions Como Superheroes Ironman Long Sleeve R...  None   \n",
       "1                      FIG Clothing Womens Izo Tunic  None   \n",
       "2                        FIG Clothing Womens Won Top  None   \n",
       "3  Focal18 Sailor Collar Bubble Sleeve Blouse Shi...  None   \n",
       "4  Featherlite Ladies' Long Sleeve Stain Resistan...  None   \n",
       "\n",
       "                                    medium_image_url manufacturer  \\\n",
       "0  https://images-na.ssl-images-amazon.com/images...         None   \n",
       "1  https://images-na.ssl-images-amazon.com/images...         None   \n",
       "2  https://images-na.ssl-images-amazon.com/images...         None   \n",
       "3  https://images-na.ssl-images-amazon.com/images...         None   \n",
       "4  https://images-na.ssl-images-amazon.com/images...         None   \n",
       "\n",
       "                            editorial_review_updated  \n",
       "0  Minions Como Superheroes Ironman Women's O Nec...  \n",
       "1  Sizing runs on the small side. FIG® recommends...  \n",
       "2  Sizing runs on the small side. FIG® recommends...  \n",
       "3  100% Brand New & Fashion<br> Quantity: 1 Piece...  \n",
       "4                                                     "
      ]
     },
     "execution_count": 54,
     "metadata": {},
     "output_type": "execute_result"
    }
   ],
   "source": [
    "data.head()"
   ]
  },
  {
   "cell_type": "code",
   "execution_count": 55,
   "metadata": {},
   "outputs": [
    {
     "name": "stdout",
     "output_type": "stream",
     "text": [
      "count     183138\n",
      "unique        72\n",
      "top        SHIRT\n",
      "freq      167794\n",
      "Name: product_type_name, dtype: object\n"
     ]
    }
   ],
   "source": [
    "print(data['product_type_name'].describe())"
   ]
  },
  {
   "cell_type": "code",
   "execution_count": 61,
   "metadata": {},
   "outputs": [
    {
     "name": "stdout",
     "output_type": "stream",
     "text": [
      "[('SHIRT', 167794), ('APPAREL', 3549), ('BOOKS_1973_AND_LATER', 3336), ('DRESS', 1584), ('SPORTING_GOODS', 1281), ('SWEATER', 837), ('OUTERWEAR', 796), ('OUTDOOR_RECREATION_PRODUCT', 729), ('ACCESSORY', 636), ('UNDERWEAR', 425)]\n"
     ]
    }
   ],
   "source": [
    "prd_type_counts= Counter(data['product_type_name'])\n",
    "print(prd_type_counts.most_common(10))"
   ]
  },
  {
   "cell_type": "code",
   "execution_count": 15,
   "metadata": {},
   "outputs": [
    {
     "name": "stdout",
     "output_type": "stream",
     "text": [
      "count      28395\n",
      "unique      3135\n",
      "top       $19.99\n",
      "freq         945\n",
      "Name: formatted_price, dtype: object\n"
     ]
    }
   ],
   "source": [
    "print(data['formatted_price'].describe())"
   ]
  },
  {
   "cell_type": "code",
   "execution_count": 22,
   "metadata": {},
   "outputs": [
    {
     "data": {
      "text/plain": [
       "[(None, 154743),\n",
       " ('$19.99', 945),\n",
       " ('$9.99', 749),\n",
       " ('$9.50', 601),\n",
       " ('$14.99', 472),\n",
       " ('$7.50', 463),\n",
       " ('$24.99', 414),\n",
       " ('$29.99', 370),\n",
       " ('$8.99', 343),\n",
       " ('$9.01', 336)]"
      ]
     },
     "execution_count": 22,
     "metadata": {},
     "output_type": "execute_result"
    }
   ],
   "source": [
    "Counter(data['formatted_price']).most_common(10)"
   ]
  },
  {
   "cell_type": "code",
   "execution_count": 23,
   "metadata": {},
   "outputs": [
    {
     "name": "stdout",
     "output_type": "stream",
     "text": [
      "[(None, 154743), ('19.99', 945), ('9.99', 749), ('9.50', 601), ('14.99', 472), ('7.50', 463), ('24.99', 414), ('29.99', 370), ('8.99', 343), ('9.01', 336)]\n"
     ]
    }
   ],
   "source": [
    "data['formatted_price']= data['formatted_price'].str[1:]\n",
    "print(Counter(data['formatted_price']).most_common(10))"
   ]
  },
  {
   "cell_type": "code",
   "execution_count": 25,
   "metadata": {},
   "outputs": [],
   "source": [
    "data['formatted_price']= pd.to_numeric(data['formatted_price'],errors='coerce')"
   ]
  },
  {
   "cell_type": "code",
   "execution_count": 26,
   "metadata": {},
   "outputs": [
    {
     "data": {
      "text/plain": [
       "count    28373.000000\n",
       "mean        32.048922\n",
       "std         43.405505\n",
       "min          0.010000\n",
       "25%         10.800000\n",
       "50%         19.110000\n",
       "75%         34.990000\n",
       "max        995.000000\n",
       "Name: formatted_price, dtype: float64"
      ]
     },
     "execution_count": 26,
     "metadata": {},
     "output_type": "execute_result"
    }
   ],
   "source": [
    "data['formatted_price'].describe()"
   ]
  },
  {
   "cell_type": "code",
   "execution_count": 27,
   "metadata": {},
   "outputs": [
    {
     "data": {
      "text/plain": [
       "0.8450731142635608"
      ]
     },
     "execution_count": 27,
     "metadata": {},
     "output_type": "execute_result"
    }
   ],
   "source": [
    "data['formatted_price'].isna().sum()/data.shape[0]"
   ]
  },
  {
   "cell_type": "code",
   "execution_count": null,
   "metadata": {},
   "outputs": [],
   "source": []
  }
 ],
 "metadata": {
  "instance_type": "ml.t3.medium",
  "kernelspec": {
   "display_name": "Python 3 (Data Science)",
   "language": "python",
   "name": "python3__SAGEMAKER_INTERNAL__arn:aws:sagemaker:us-east-1:081325390199:image/datascience-1.0"
  },
  "language_info": {
   "codemirror_mode": {
    "name": "ipython",
    "version": 3
   },
   "file_extension": ".py",
   "mimetype": "text/x-python",
   "name": "python",
   "nbconvert_exporter": "python",
   "pygments_lexer": "ipython3",
   "version": "3.7.10"
  }
 },
 "nbformat": 4,
 "nbformat_minor": 4
}
